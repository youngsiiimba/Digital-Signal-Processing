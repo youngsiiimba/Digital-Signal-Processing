{
  "nbformat": 4,
  "nbformat_minor": 0,
  "metadata": {
    "colab": {
      "name": "Audio Processing Tutorial.ipynb",
      "provenance": [],
      "collapsed_sections": [],
      "authorship_tag": "ABX9TyNNubUdULhDBEWPE4/6saZ4",
      "include_colab_link": true
    },
    "kernelspec": {
      "name": "python3",
      "display_name": "Python 3"
    },
    "language_info": {
      "name": "python"
    }
  },
  "cells": [
    {
      "cell_type": "markdown",
      "metadata": {
        "id": "view-in-github",
        "colab_type": "text"
      },
      "source": [
        "<a href=\"https://colab.research.google.com/github/youngsiiimba/Digital-Signal-Processing/blob/main/Audio_Processing_Tutorial.ipynb\" target=\"_parent\"><img src=\"https://colab.research.google.com/assets/colab-badge.svg\" alt=\"Open In Colab\"/></a>"
      ]
    },
    {
      "cell_type": "markdown",
      "source": [
        "Audio file link: https://freewavesamples.com/files/Yamaha-TG100-Kalimba-C5.wav"
      ],
      "metadata": {
        "id": "hhDI6YWnat-Y"
      }
    },
    {
      "cell_type": "code",
      "source": [
        "import requests\n",
        "import wave\n",
        "import numpy as np\n",
        "import matplotlib.pyplot as plt"
      ],
      "metadata": {
        "id": "Iofvj60TZyhm"
      },
      "execution_count": 87,
      "outputs": []
    },
    {
      "cell_type": "code",
      "source": [
        "url = 'https://freewavesamples.com/files/Yamaha-TG100-Kalimba-C5.wav'\n",
        "r = requests.get(url, allow_redirects=True)\n",
        "\n",
        "open('Yamaha-TG100-Kalimba-C5.wav', 'wb').write(r.content)"
      ],
      "metadata": {
        "colab": {
          "base_uri": "https://localhost:8080/"
        },
        "id": "jDYVYhK_aI8D",
        "outputId": "70130ac0-d55b-46a3-9a5f-53767900dbc9"
      },
      "execution_count": 88,
      "outputs": [
        {
          "output_type": "execute_result",
          "data": {
            "text/plain": [
              "235756"
            ]
          },
          "metadata": {},
          "execution_count": 88
        }
      ]
    },
    {
      "cell_type": "code",
      "source": [
        "#This is the file location for the data using goolge colab: https://colab.research.google.com/\n",
        "file = wave.open('/content/Yamaha-TG100-Kalimba-C5.wav')"
      ],
      "metadata": {
        "id": "d3vs3pV_Z4Yv"
      },
      "execution_count": 89,
      "outputs": []
    },
    {
      "cell_type": "markdown",
      "source": [
        "###Let's get the number of channels"
      ],
      "metadata": {
        "id": "sJc4OYttcCHA"
      }
    },
    {
      "cell_type": "code",
      "source": [
        "print(file.getnchannels())"
      ],
      "metadata": {
        "colab": {
          "base_uri": "https://localhost:8080/"
        },
        "id": "H0DMK5LFbpZ7",
        "outputId": "fe2c9e3e-3fa8-45fe-db53-688804f06311"
      },
      "execution_count": 90,
      "outputs": [
        {
          "output_type": "stream",
          "name": "stdout",
          "text": [
            "2\n"
          ]
        }
      ]
    },
    {
      "cell_type": "markdown",
      "source": [
        "###Let's get the sampling rate"
      ],
      "metadata": {
        "id": "Ym1F7Ntgb58E"
      }
    },
    {
      "cell_type": "code",
      "source": [
        "S_rate = file.getframerate()\n",
        "file.getframerate()"
      ],
      "metadata": {
        "colab": {
          "base_uri": "https://localhost:8080/"
        },
        "id": "qkopyRwQb2-O",
        "outputId": "00408441-b297-4bbe-f4a8-ce04fbdac603"
      },
      "execution_count": 91,
      "outputs": [
        {
          "output_type": "execute_result",
          "data": {
            "text/plain": [
              "44100"
            ]
          },
          "metadata": {},
          "execution_count": 91
        }
      ]
    },
    {
      "cell_type": "markdown",
      "source": [
        "###Let's get the number of frames."
      ],
      "metadata": {
        "id": "F5yA6K38cOz7"
      }
    },
    {
      "cell_type": "code",
      "source": [
        "n_frames = file.getnframes()\n",
        "file.getnframes()"
      ],
      "metadata": {
        "colab": {
          "base_uri": "https://localhost:8080/"
        },
        "id": "WvaWRfF3cRyS",
        "outputId": "464ba793-ea56-43f2-8956-99c804a62b24"
      },
      "execution_count": 92,
      "outputs": [
        {
          "output_type": "execute_result",
          "data": {
            "text/plain": [
              "58879"
            ]
          },
          "metadata": {},
          "execution_count": 92
        }
      ]
    },
    {
      "cell_type": "markdown",
      "source": [
        "###Let's get the sample width"
      ],
      "metadata": {
        "id": "5rvHlzEgdeRg"
      }
    },
    {
      "cell_type": "code",
      "source": [
        "file.getsampwidth()"
      ],
      "metadata": {
        "colab": {
          "base_uri": "https://localhost:8080/"
        },
        "id": "EwlHyG0ldhHh",
        "outputId": "3dc3bdcf-7440-4f64-d7ab-0b33ef7a7992"
      },
      "execution_count": 93,
      "outputs": [
        {
          "output_type": "execute_result",
          "data": {
            "text/plain": [
              "2"
            ]
          },
          "metadata": {},
          "execution_count": 93
        }
      ]
    },
    {
      "cell_type": "markdown",
      "source": [
        "This means that one sample from one channel contains 2 bytes"
      ],
      "metadata": {
        "id": "3PUs3bwadtZw"
      }
    },
    {
      "cell_type": "markdown",
      "source": [
        "###Now let's access the data from the frames."
      ],
      "metadata": {
        "id": "QAdda_EicobC"
      }
    },
    {
      "cell_type": "code",
      "source": [
        "data = file.readframes(-1)\n",
        "#print(\"Data for one frame: \", file.readframes(1))\n",
        "#print(\"Data for all the frames: \", data)"
      ],
      "metadata": {
        "id": "uPgqRIH2cfT1"
      },
      "execution_count": null,
      "outputs": []
    },
    {
      "cell_type": "markdown",
      "source": [
        "When we print the data for one frame, we can see from the output above that this is binary data which contains four *bytes*. The first to bytes are for one channel and the other two bytes are for the other channel"
      ],
      "metadata": {
        "id": "KtayvwxhdG-6"
      }
    },
    {
      "cell_type": "markdown",
      "source": [
        "###Now let's decode the data to integers"
      ],
      "metadata": {
        "id": "SK8whckueF24"
      }
    },
    {
      "cell_type": "code",
      "source": [
        "w_data = np.frombuffer(data, np.int16)"
      ],
      "metadata": {
        "id": "KP-MxoX1dOzF"
      },
      "execution_count": 95,
      "outputs": []
    },
    {
      "cell_type": "code",
      "source": [
        "print(w_data)"
      ],
      "metadata": {
        "colab": {
          "base_uri": "https://localhost:8080/"
        },
        "id": "90ApFIyVeY94",
        "outputId": "ef7e7d0c-0e50-42d4-c77c-85fb86058d04"
      },
      "execution_count": 96,
      "outputs": [
        {
          "output_type": "stream",
          "name": "stdout",
          "text": [
            "[ -2 -10  -9 ...   0  -2  -3]\n"
          ]
        }
      ]
    },
    {
      "cell_type": "markdown",
      "source": [
        "###Let's restructure the data "
      ],
      "metadata": {
        "id": "gK5dAuQzjtMR"
      }
    },
    {
      "cell_type": "markdown",
      "source": [
        "We'll restructure the data such that one column will represent data taken from one channel and the second column will represent data taken from the second channel"
      ],
      "metadata": {
        "id": "f80KomZ1kgvl"
      }
    },
    {
      "cell_type": "code",
      "source": [
        "w_data.shape =  -1,2\n",
        "w_data"
      ],
      "metadata": {
        "colab": {
          "base_uri": "https://localhost:8080/"
        },
        "id": "IYyGvQ1xj_XC",
        "outputId": "003bde91-c4ec-4193-8f18-5e18907f680b"
      },
      "execution_count": 97,
      "outputs": [
        {
          "output_type": "execute_result",
          "data": {
            "text/plain": [
              "array([[ -2, -10],\n",
              "       [ -9,  -3],\n",
              "       [  6,  22],\n",
              "       ...,\n",
              "       [ -3,  -2],\n",
              "       [  3,   0],\n",
              "       [ -2,  -3]], dtype=int16)"
            ]
          },
          "metadata": {},
          "execution_count": 97
        }
      ]
    },
    {
      "cell_type": "markdown",
      "source": [
        "We can even transpose the data so there can be two rows instead of two columns"
      ],
      "metadata": {
        "id": "jC6Ks-bykW-J"
      }
    },
    {
      "cell_type": "code",
      "source": [
        "w_data = w_data.T"
      ],
      "metadata": {
        "id": "gWPxvnKZkOHO"
      },
      "execution_count": 98,
      "outputs": []
    },
    {
      "cell_type": "markdown",
      "source": [
        "###Let's get the time duration for our file"
      ],
      "metadata": {
        "id": "wM-NNOaGk0vb"
      }
    },
    {
      "cell_type": "code",
      "source": [
        "print(\"Time duration in seconds: \", n_frames / S_rate)"
      ],
      "metadata": {
        "colab": {
          "base_uri": "https://localhost:8080/"
        },
        "id": "uszZTxQok4UR",
        "outputId": "fa1828e0-26ad-4dd6-d04f-8c424532e963"
      },
      "execution_count": 99,
      "outputs": [
        {
          "output_type": "stream",
          "name": "stdout",
          "text": [
            "Time duration in seconds:  1.335124716553288\n"
          ]
        }
      ]
    },
    {
      "cell_type": "markdown",
      "source": [
        "###Let's generate a time sequence"
      ],
      "metadata": {
        "id": "sF3RvrHXlREW"
      }
    },
    {
      "cell_type": "code",
      "source": [
        "duration_between_samples = 1 / float(S_rate)\n",
        "t_seq = np.arange(0, n_frames/float(S_rate), duration_between_samples)"
      ],
      "metadata": {
        "id": "JXNM7ktvlTmC"
      },
      "execution_count": 100,
      "outputs": []
    },
    {
      "cell_type": "markdown",
      "source": [
        "###Let's plot our signal"
      ],
      "metadata": {
        "id": "mZdhQgx-mOYl"
      }
    },
    {
      "cell_type": "code",
      "source": [
        "plt.plot(t_seq, w_data[0])\n",
        "plt.title('Data from first channel')"
      ],
      "metadata": {
        "colab": {
          "base_uri": "https://localhost:8080/",
          "height": 298
        },
        "id": "GejMUbFCmRwK",
        "outputId": "230a042b-6d85-489f-b67a-380f946fb0f6"
      },
      "execution_count": 101,
      "outputs": [
        {
          "output_type": "execute_result",
          "data": {
            "text/plain": [
              "Text(0.5, 1.0, 'Data from first channel')"
            ]
          },
          "metadata": {},
          "execution_count": 101
        },
        {
          "output_type": "display_data",
          "data": {
            "image/png": "[encoded data removed]",
            "text/plain": [
              "<Figure size 432x288 with 1 Axes>"
            ]
          },
          "metadata": {
            "needs_background": "light"
          }
        }
      ]
    },
    {
      "cell_type": "code",
      "source": [
        "plt.plot(t_seq, w_data[1])\n",
        "plt.title('Data from second channel')"
      ],
      "metadata": {
        "colab": {
          "base_uri": "https://localhost:8080/",
          "height": 298
        },
        "id": "XCyUmHTwmkm0",
        "outputId": "0cedcd59-566a-4644-8901-6a0b7d7719d6"
      },
      "execution_count": 102,
      "outputs": [
        {
          "output_type": "execute_result",
          "data": {
            "text/plain": [
              "Text(0.5, 1.0, 'Data from second channel')"
            ]
          },
          "metadata": {},
          "execution_count": 102
        },
        {
          "output_type": "display_data",
          "data": {
            "image/png": "[encoded data removed]",
            "text/plain": [
              "<Figure size 432x288 with 1 Axes>"
            ]
          },
          "metadata": {
            "needs_background": "light"
          }
        }
      ]
    }
  ]
}